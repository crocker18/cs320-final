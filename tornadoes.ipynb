{
 "cells": [
  {
   "cell_type": "code",
   "execution_count": null,
   "metadata": {
    "scrolled": true
   },
   "outputs": [],
   "source": [
    "import gzip\n",
    "import csv\n",
    "import json\n",
    "import pandas as pd\n",
    "import matplotlib.pyplot as plt\n",
    "from zipfile import ZipFile, ZIP_STORED, ZIP_DEFLATED\n",
    "from io import TextIOWrapper\n",
    "from sklearn.linear_model import LinearRegression\n",
    "import geopandas\n",
    "import numpy as np\n",
    "from IPython.core.display import HTML\n",
    "from matplotlib.colors import ListedColormap\n",
    "from matplotlib.animation import FuncAnimation\n",
    "from shapely.geometry import Point\n",
    "%matplotlib inline "
   ]
  },
  {
   "cell_type": "code",
   "execution_count": null,
   "metadata": {
    "scrolled": true
   },
   "outputs": [],
   "source": [
    "def convert_K(s): # from CS 301 P5 --> converting string damage amount to int\n",
    "    s = s.replace(\"K\", \"\")\n",
    "    x = int(s.find(\".\"))\n",
    "    y = s[x:]\n",
    "    length_after_period = len(y) - 1\n",
    "    corrected_K = s + (\"0\"*(3-length_after_period))\n",
    "    corrected_K_final = corrected_K.replace(\".\", \"\")\n",
    "    return int(corrected_K_final)\n",
    "    \n",
    "def convert_M(s):\n",
    "    s = s.replace(\"M\", \"\")\n",
    "    x = int(s.find(\".\"))\n",
    "    y = s[x:]\n",
    "    length_after_period = len(y) - 1\n",
    "    corrected_M = s + (\"0\"*(6-length_after_period))\n",
    "    corrected_M_final = corrected_M.replace(\".\", \"\")\n",
    "    return int(corrected_M_final)\n",
    "\n",
    "def convert_B(s):\n",
    "    s = s.replace(\"B\", \"\")\n",
    "    x = int(s.find(\".\"))\n",
    "    y = s[x:]\n",
    "    length_after_period = len(y) - 1\n",
    "    corrected_B = s + (\"0\"*(9-length_after_period))\n",
    "    corrected_B_final = corrected_B.replace(\".\", \"\")\n",
    "    return int(corrected_B_final)\n",
    "\n",
    "def convert(s):\n",
    "    if int(s.find(\"K\")) > 0:\n",
    "        return convert_K(s)\n",
    "    elif int(s.find(\"M\")) > 0:\n",
    "        return convert_M(s)\n",
    "    elif int(s.find(\"B\")) > 0:\n",
    "        return convert_B(s)\n",
    "    else:\n",
    "        return None"
   ]
  },
  {
   "cell_type": "code",
   "execution_count": null,
   "metadata": {
    "scrolled": true
   },
   "outputs": [],
   "source": [
    "df_list = []\n",
    "with ZipFile(\"StormEvents.zip\") as zf:\n",
    "    for file in zf.namelist():\n",
    "        with zf.open(file) as f:\n",
    "            curr_data = pd.read_csv(f, compression='gzip', error_bad_lines=False)\n",
    "            df_list.append(curr_data[curr_data[\"EVENT_TYPE\"] == 'Tornado'])\n",
    "\n",
    "            tornado_data = pd.concat(df_list)"
   ]
  },
  {
   "cell_type": "code",
   "execution_count": null,
   "metadata": {
    "scrolled": false
   },
   "outputs": [],
   "source": [
    "start_times = tornado_data[\"BEGIN_TIME\"]\n",
    "\n",
    "start_times_dict = {}\n",
    "for time in start_times:\n",
    "    if not (time // 100) in start_times_dict:\n",
    "        start_times_dict[(time // 100)] = 0\n",
    "    start_times_dict[(time // 100)] += 1\n",
    "start_times_dict_sorted = sorted(start_times_dict.keys())\n",
    "start_times_dict_ii = {}\n",
    "for key in start_times_dict_sorted:\n",
    "    if not key in start_times_dict_ii:\n",
    "        start_times_dict_ii[key] = 0\n",
    "    start_times_dict_ii[key] = start_times_dict[key]\n",
    "    \n",
    "start_times_dict_ii"
   ]
  },
  {
   "cell_type": "code",
   "execution_count": null,
   "metadata": {
    "scrolled": false
   },
   "outputs": [],
   "source": [
    "def get_ax(figsize=(4,4)):\n",
    "    fig, ax = plt.subplots(figsize=figsize)\n",
    "    ax.spines['right'].set_visible(False)\n",
    "    ax.spines['top'].set_visible(False)\n",
    "    return ax\n",
    "\n",
    "ax = get_ax((20, 10))\n",
    "ax.set_title(\"When do Tornadoes Occur? (1950-2019))\", size=40)\n",
    "ax.set_ylabel(\"# of Tornadoes\", fontsize=30)\n",
    "ax.set_xlabel(\"Start Time (rounded down to nearest hour)\", fontsize=30)\n",
    "ax.set_xticks(list(start_times_dict_ii.keys()))\n",
    "ax.tick_params(labelsize=20)\n",
    "\n",
    "ax.bar(list(start_times_dict_ii.keys()), list(start_times_dict_ii.values()), color = \"black\")\n",
    "None"
   ]
  },
  {
   "cell_type": "code",
   "execution_count": null,
   "metadata": {
    "scrolled": true
   },
   "outputs": [],
   "source": [
    "tornado_data.columns"
   ]
  },
  {
   "cell_type": "code",
   "execution_count": null,
   "metadata": {
    "scrolled": true
   },
   "outputs": [],
   "source": [
    "tornado_month = tornado_data[\"MONTH_NAME\"]\n",
    "\n",
    "tornado_month_dict = {}\n",
    "for month in tornado_month:\n",
    "    if not (month[:3]) in tornado_month_dict:\n",
    "        tornado_month_dict[month[:3]] = 0\n",
    "    tornado_month_dict[month[:3]] += 1\n",
    "    \n",
    "# from https://stackoverflow.com/questions/36596118/how-to-sort-a-python-dictionary-having-month-names-as-keys\n",
    "    \n",
    "months = ['Jan','Feb','Mar','Apr','May','Jun','Jul','Aug','Sep','Oct','Nov','Dec']\n",
    "data = tornado_month_dict\n",
    "from collections import OrderedDict\n",
    "tornado_month_dict_ii = OrderedDict(sorted(data.items(),key =lambda x:months.index(x[0])))\n",
    "tornado_month_dict_ii"
   ]
  },
  {
   "cell_type": "code",
   "execution_count": null,
   "metadata": {
    "scrolled": false
   },
   "outputs": [],
   "source": [
    "ax = get_ax((20, 10))\n",
    "ax.set_title(\"# Tornadoes per Month (1950-2019)\", size=40)\n",
    "ax.set_ylabel(\"# of Tornadoes\", fontsize=30)\n",
    "ax.set_xlabel(\"Month\", fontsize=25)\n",
    "ax.tick_params(labelsize=15)\n",
    "\n",
    "ax.bar(list(tornado_month_dict_ii.keys()), list(tornado_month_dict_ii.values()), color = \"black\")\n",
    "None"
   ]
  },
  {
   "cell_type": "code",
   "execution_count": null,
   "metadata": {
    "scrolled": false
   },
   "outputs": [],
   "source": [
    "tornado_year = tornado_data[\"YEAR\"]\n",
    "\n",
    "tornado_year_dict = {}\n",
    "for year in tornado_year:\n",
    "    if not year in tornado_year_dict:\n",
    "        tornado_year_dict[year] = 0\n",
    "    tornado_year_dict[year] += 1\n",
    "\n",
    "pair_list = []\n",
    "for year in tornado_year_dict:\n",
    "    pair_list.append((year, tornado_year_dict[year]))\n",
    "df = pd.DataFrame.from_records(pair_list, columns=[\"Year\", \"Count\"])\n",
    "r = LinearRegression()\n",
    "columns = [\"Year\"]\n",
    "r.fit(df[columns].values, df[\"Count\"].values.reshape(-1,1))\n",
    "slope = float(r.coef_)\n",
    "intercept = float(r.intercept_)\n",
    "ax.scatter(df[\"Year\"], df[\"Count\"])\n",
    "x = np.linspace(1950, 2019, 69)\n",
    "y = slope*x + intercept  \n",
    "\n",
    "ax = get_ax((20, 10))\n",
    "ax.set_title(\"# Tornadoes per Year (1950-2019)\", size=40)\n",
    "ax.set_ylabel(\"# of Tornadoes\", fontsize=30)\n",
    "ax.set_xlabel(\"Year\", fontsize=30)\n",
    "ax.tick_params(labelsize=20)\n",
    "\n",
    "ax.scatter(list(tornado_year_dict.keys()), list(tornado_year_dict.values()), color = \"black\")\n",
    "ax.plot(x, y, color = \"red\")\n",
    "print(slope, intercept)\n",
    "None"
   ]
  },
  {
   "cell_type": "code",
   "execution_count": null,
   "metadata": {
    "scrolled": true
   },
   "outputs": [],
   "source": [
    "tornado_damage_type = tornado_data[[\"DAMAGE_PROPERTY\", \"TOR_F_SCALE\"]]\n",
    "\n",
    "tornado_damage_type_dict = {}\n",
    "\n",
    "for i in range(len(tornado_damage_type)):\n",
    "    if type(tornado_damage_type.iloc[i][\"DAMAGE_PROPERTY\"]) == str:\n",
    "        current_damage = convert(tornado_damage_type.iloc[i][\"DAMAGE_PROPERTY\"])\n",
    "        if current_damage == None:\n",
    "            continue\n",
    "    elif type(tornado_damage_type.iloc[i][\"DAMAGE_PROPERTY\"]) == int:\n",
    "        current_damage = tornado_damage_type.iloc[i][\"DAMAGE_PROPERTY\"]\n",
    "    elif type(tornado_damage_type.iloc[i][\"DAMAGE_PROPERTY\"]) == float: # float NaN\n",
    "        continue\n",
    "    else:\n",
    "        current_damage = 0\n",
    "    if type(tornado_damage_type.iloc[i][\"TOR_F_SCALE\"]) != str or tornado_damage_type.iloc[i][\"TOR_F_SCALE\"] == \"EFU\":\n",
    "        continue\n",
    "    if not tornado_damage_type.iloc[i][\"TOR_F_SCALE\"] in tornado_damage_type_dict:\n",
    "        tornado_damage_type_dict[tornado_damage_type.iloc[i][\"TOR_F_SCALE\"]] = [0,0]\n",
    "    tornado_damage_type_dict[tornado_damage_type.iloc[i][\"TOR_F_SCALE\"]][0] += 1\n",
    "    tornado_damage_type_dict[tornado_damage_type.iloc[i][\"TOR_F_SCALE\"]][1] += current_damage\n",
    "tornado_damage_type_dict"
   ]
  },
  {
   "cell_type": "code",
   "execution_count": null,
   "metadata": {
    "scrolled": true
   },
   "outputs": [],
   "source": [
    "tornado_damage_type_dict_sorted = sorted(tornado_damage_type_dict.keys())\n",
    "tornado_damage_type_dict_ii = {}\n",
    "for key in tornado_damage_type_dict_sorted:\n",
    "    if not key in tornado_damage_type_dict_ii:\n",
    "        tornado_damage_type_dict_ii[key] = int(tornado_damage_type_dict[key][1] / tornado_damage_type_dict[key][0]) / 10000\n",
    "tornado_damage_type_dict_ii"
   ]
  },
  {
   "cell_type": "code",
   "execution_count": null,
   "metadata": {
    "scrolled": false
   },
   "outputs": [],
   "source": [
    "ax = get_ax((20, 10))\n",
    "ax.set_title(\"Average Property Damage by Tornado Type (1950-2019)\", size=40)\n",
    "ax.set_ylabel(\"Avg Damage (tens of thousands)\", fontsize=30)\n",
    "ax.set_xlabel(\"Tornado Type\", fontsize=30)\n",
    "ax.tick_params(labelsize=20)\n",
    "ax.set_yscale(\"log\")\n",
    "ax.bar(list(tornado_damage_type_dict_ii.keys()), list(tornado_damage_type_dict_ii.values()), color = \"black\")\n",
    "None"
   ]
  },
  {
   "cell_type": "code",
   "execution_count": null,
   "metadata": {
    "scrolled": false
   },
   "outputs": [],
   "source": [
    "tornado_states = tornado_data[\"STATE\"].value_counts()\n",
    "tornado_states = tornado_states.drop(\"VIRGIN ISLANDS\")\n",
    "tornado_states = tornado_states.drop(\"DISTRICT OF COLUMBIA\")\n",
    "tornado_states = tornado_states.drop(\"PUERTO RICO\")\n",
    "tornado_states = tornado_states.drop(\"ALASKA\")\n",
    "tornado_states = tornado_states.drop(\"HAWAII\")\n",
    "tornado_states"
   ]
  },
  {
   "cell_type": "code",
   "execution_count": null,
   "metadata": {
    "scrolled": true
   },
   "outputs": [],
   "source": [
    "type_counts = tornado_data[\"TOR_F_SCALE\"].str.replace(\"E\", \"\").value_counts()\n",
    "type_counts = type_counts.drop(\"FU\")\n",
    "type_counts_ii = type_counts[:3]\n",
    "strong = type_counts[3:].sum()\n",
    "type_counts_ii[\"F3+\"] = strong\n",
    "type_counts_ii"
   ]
  },
  {
   "cell_type": "code",
   "execution_count": null,
   "metadata": {
    "scrolled": true
   },
   "outputs": [],
   "source": [
    "strong_tornado_decades = tornado_data[tornado_data[\"TOR_F_SCALE\"].str.replace(\"E\", \"\") == \n",
    "                                      (\"F3\" or \"F4\" or \"F5\")][\"YEAR\"] // 10 * 10\n",
    "\n",
    "weak_tornado_decades = tornado_data[tornado_data[\"TOR_F_SCALE\"].str.replace(\"E\", \"\") == \n",
    "                                    (\"F0\" or \"F1\" or \"F2\")][\"YEAR\"] // 10 * 10"
   ]
  },
  {
   "cell_type": "code",
   "execution_count": null,
   "metadata": {
    "scrolled": true
   },
   "outputs": [],
   "source": [
    "weak_tornado_decades.value_counts()"
   ]
  },
  {
   "cell_type": "code",
   "execution_count": null,
   "metadata": {
    "scrolled": true
   },
   "outputs": [],
   "source": [
    "strong_tornado_decades.value_counts()"
   ]
  },
  {
   "cell_type": "code",
   "execution_count": null,
   "metadata": {
    "scrolled": true
   },
   "outputs": [],
   "source": [
    "tor_type_decade_df = pd.DataFrame({\n",
    "    \"F3+\":strong_tornado_decades.dropna().astype(int).value_counts(), \n",
    "    \"other\":weak_tornado_decades.dropna().astype(int).value_counts()\n",
    "})\n",
    "tor_type_decade_df"
   ]
  },
  {
   "cell_type": "code",
   "execution_count": null,
   "metadata": {
    "scrolled": false
   },
   "outputs": [],
   "source": [
    "ax = tor_type_decade_df.plot.bar(stacked=True, figsize=(14, 7), color=(\"k\", \".75\"))\n",
    "ax.set_ylabel(\"# of Tornadoes\", fontsize=30)\n",
    "ax.set_title(\"Tornado Strength vs Decade (1950-2010)\", size=35)\n",
    "ax.set_xlabel(\"Decade\", fontsize=30)\n",
    "ax.tick_params(labelsize=15)\n",
    "ax.legend(loc=2, prop={'size': 20})\n",
    "ax.spines[\"right\"].set_visible(False)\n",
    "ax.spines[\"top\"].set_visible(False)\n",
    "None"
   ]
  },
  {
   "cell_type": "code",
   "execution_count": null,
   "metadata": {
    "scrolled": true
   },
   "outputs": [],
   "source": [
    "decade_tornado_state = tornado_data[[\"STATE\", \"YEAR\"]]     \n",
    "decade_tornado_state.YEAR = decade_tornado_state.YEAR // 10 * 10\n",
    "decades_state_df = pd.crosstab(decade_tornado_state.STATE, decade_tornado_state.YEAR)\n",
    "decades_state_df = decades_state_df.drop(\"VIRGIN ISLANDS\")"
   ]
  },
  {
   "cell_type": "code",
   "execution_count": null,
   "metadata": {
    "scrolled": false
   },
   "outputs": [],
   "source": [
    "def draw_frame(decade):\n",
    "    us = geopandas.read_file(\"zip://states.zip\") # march 27th lecture\n",
    "    us[\"NAME\"] = us[\"NAME\"].str.upper()\n",
    "    \n",
    "    for state in decades_state_df[decade].iteritems():\n",
    "        color = \"white\"\n",
    "        if state[1] >= 300/7:\n",
    "            color = \"lightyellow\"\n",
    "        if state[1] >= 500/7:\n",
    "            color = \"palegoldenrod\"\n",
    "        if state[1] >= 1000/7:\n",
    "            color = \"lightsalmon\"\n",
    "        if state[1] >= 2000/7:\n",
    "            color = \"coral\"\n",
    "        if state[1] >= 2500/7:\n",
    "            color = \"red\"\n",
    "        if state[1] >= 4000/7:\n",
    "            color = \"brown\"\n",
    "        if state[1] >= 5000/7:\n",
    "            color = 'darkred'\n",
    "        \n",
    "        for i in range(len(us)):\n",
    "            if us.iloc[i][\"NAME\"] == state[0]:\n",
    "                us.at[i, decade] = str(color)\n",
    "            \n",
    "    ax = fig.add_subplot()\n",
    "    ax.set_title(str(decade)+\"s\", fontsize=30)\n",
    "    continent = us[~us[\"STUSPS\"].isin([\"AK\", \"HI\", \"PR\"])]\n",
    "\n",
    "    continent.plot(color=\"white\", edgecolor=\"k\", ax=ax)\n",
    "\n",
    "    for ax in fig.axes:\n",
    "        ax.axis(\"off\")\n",
    "\n",
    "    continent.plot(color=continent[decade], edgecolor=\"k\", legend=True, ax=ax)"
   ]
  },
  {
   "cell_type": "code",
   "execution_count": null,
   "metadata": {
    "scrolled": false
   },
   "outputs": [],
   "source": [
    "fig, ax = plt.subplots(figsize=(12, 6))\n",
    "anim = FuncAnimation(fig, func=draw_frame, frames=[1950, 1960, 1970, 1980, 1990, 2000, 2010], interval=750)\n",
    "html = anim.to_html5_video()\n",
    "with open(\"final_project_visualization.html\", \"w\") as f:\n",
    "     f.write(html)\n",
    "plt.close(fig)\n",
    "display(HTML(html))"
   ]
  },
  {
   "cell_type": "code",
   "execution_count": null,
   "metadata": {
    "scrolled": false
   },
   "outputs": [],
   "source": [
    "length_width_type = tornado_data[[\"TOR_LENGTH\", \"TOR_WIDTH\", \"TOR_F_SCALE\"]]\n",
    "length_width_type.TOR_F_SCALE = length_width_type.TOR_F_SCALE.str.replace(\"E\", \"\")\n",
    "length_width_type.TOR_LENGTH = length_width_type.TOR_LENGTH\n",
    "length_width_type.TOR_WIDTH = length_width_type.TOR_WIDTH"
   ]
  },
  {
   "cell_type": "code",
   "execution_count": null,
   "metadata": {},
   "outputs": [],
   "source": [
    "injuries_type = tornado_data[[\"TOR_F_SCALE\", \"INJURIES_DIRECT\"]]\n",
    "injuries_type = pd.crosstab(injuries_type.INJURIES_DIRECT, injuries_type.TOR_F_SCALE)"
   ]
  },
  {
   "cell_type": "code",
   "execution_count": null,
   "metadata": {},
   "outputs": [],
   "source": [
    "newer_tornadoes = tornado_data[tornado_data[\"YEAR\"] >= 2000]\n",
    "newer_tornadoes_length_width = newer_tornadoes[[\"TOR_WIDTH\", \"TOR_LENGTH\", \"TOR_F_SCALE\", \"DEATHS_DIRECT\", \n",
    "                                                \"INJURIES_DIRECT\", \"DAMAGE_PROPERTY\", \"YEAR\"]]\n",
    "newer_tornadoes_length_width.TOR_F_SCALE = newer_tornadoes_length_width.TOR_F_SCALE.str.replace(\"E\", \"\")"
   ]
  },
  {
   "cell_type": "code",
   "execution_count": null,
   "metadata": {},
   "outputs": [],
   "source": [
    "deaths_per_year = tornado_data[[\"YEAR\", \"DEATHS_DIRECT\"]]"
   ]
  },
  {
   "cell_type": "code",
   "execution_count": null,
   "metadata": {},
   "outputs": [],
   "source": [
    "year_dict = {}\n",
    "for year in deaths_per_year[\"YEAR\"]:\n",
    "    if not year in year_dict:\n",
    "        year_dict[year] = 0\n",
    "for year in year_dict:\n",
    "    current_df = deaths_per_year[deaths_per_year[\"YEAR\"] == year]\n",
    "    for deaths in current_df[\"DEATHS_DIRECT\"]:\n",
    "        year_dict[year] += deaths\n",
    "\n",
    "deaths_per_year_series = pd.Series(year_dict)\n",
    "\n",
    "decade_dict = {}\n",
    "\n",
    "for year in deaths_per_year_series.keys():\n",
    "    decade = year // 10 * 10\n",
    "    if not decade+5 in decade_dict:\n",
    "        decade_dict[decade+5] = 0\n",
    "    decade_dict[decade+5] += deaths_per_year_series[year] / 10\n",
    "    \n",
    "\n",
    "deaths_per_decade_series = pd.Series(decade_dict)"
   ]
  },
  {
   "cell_type": "code",
   "execution_count": null,
   "metadata": {},
   "outputs": [],
   "source": [
    "ax = get_ax((15, 10))\n",
    "ax.set_ylabel(\"# of Deaths\", fontsize=20)\n",
    "ax.set_title(\"Tornado Fatalities by Year (1950-2019)\", size=30)\n",
    "ax.set_xlabel(\"Year\", fontsize=20)\n",
    "deaths_per_year_series.plot(ax=ax, color = \"k\", label=\"Single Year\")\n",
    "deaths_per_decade_series.plot(ax=ax, color = \"red\", label=\"10 Year Avg\")\n",
    "ax.legend(loc=\"best\", fontsize=15)\n",
    "None"
   ]
  },
  {
   "cell_type": "code",
   "execution_count": null,
   "metadata": {},
   "outputs": [],
   "source": [
    "local_tornadoes = tornado_data[tornado_data[\"STATE\"]==\"WISCONSIN\"]\n",
    "local_tornadoes = local_tornadoes[local_tornadoes[\"YEAR\"]>=2000]"
   ]
  },
  {
   "cell_type": "code",
   "execution_count": null,
   "metadata": {
    "scrolled": false
   },
   "outputs": [],
   "source": [
    "locations_local_tornadoes = local_tornadoes[[\"BEGIN_LAT\", \"BEGIN_LON\", \"TOR_F_SCALE\"]]\n",
    "locations_local_tornadoes[\"TOR_F_SCALE\"] = locations_local_tornadoes[\"TOR_F_SCALE\"].str.replace(\"E\", \"\")\n"
   ]
  },
  {
   "cell_type": "code",
   "execution_count": null,
   "metadata": {},
   "outputs": [],
   "source": [
    "import matplotlib\n",
    "\n",
    "us = geopandas.read_file(\"zip://states.zip\") # march 27th lecture\n",
    "us[\"NAME\"] = us[\"NAME\"].str.upper()\n",
    "\n",
    "df = locations_local_tornadoes\n",
    "gdf = geopandas.GeoDataFrame(df, geometry=geopandas.points_from_xy(df.BEGIN_LON, df.BEGIN_LAT))\n",
    "gdf = gdf.reset_index()\n",
    "gdf[\"color\"] = gdf[\"TOR_F_SCALE\"]\n",
    "new_colors_list = []\n",
    "for i in range(len(gdf[\"color\"])):\n",
    "    color = gdf.iloc[i][\"color\"]\n",
    "    color = color[1:]\n",
    "    if color == \"U\":\n",
    "        color = \"white\"\n",
    "    elif int(color) == 0:\n",
    "        color = \"lightsalmon\"\n",
    "    elif int(color) == 1:\n",
    "        color = \"red\"\n",
    "    elif int(color) == 2:\n",
    "        color = \"darkred\"\n",
    "    elif int(color) > 2:\n",
    "        color = \"k\"\n",
    "    else:\n",
    "        color = \"white\"\n",
    "    gdf.at[i, \"color\"] = color\n"
   ]
  },
  {
   "cell_type": "code",
   "execution_count": null,
   "metadata": {},
   "outputs": [],
   "source": [
    "from matplotlib.lines import Line2D\n",
    "\n",
    "ax = us[us.NAME == 'WISCONSIN'].plot(color='white', edgecolor='black', figsize=((10, 15)))\n",
    "ax.set_title(\"Wisconsin Tornado Locations (2000-present)\", fontsize=30)\n",
    "ax.spines['right'].set_visible(False)\n",
    "ax.spines['top'].set_visible(False)\n",
    "ax.spines['left'].set_visible(False)\n",
    "ax.spines['bottom'].set_visible(False)\n",
    "ax.axis(\"off\")\n",
    "legend_elements = [Line2D([0], [0], marker='o', color='lightsalmon', label=\"F0\",\n",
    "                         markerfacecolor=\"lightsalmon\", markersize=5),\n",
    "                   Line2D([0], [0], marker='o', color='red', label='F1', \n",
    "                          markerfacecolor='red', markersize=5),\n",
    "                   Line2D([0], [0], marker='o', color='darkred', label='F2', \n",
    "                          markerfacecolor='darkred', markersize=5),\n",
    "                   Line2D([0], [0], marker='o', color='k', label='F3+', \n",
    "                          markerfacecolor='k', markersize=5)]\n",
    "ax.legend(handles=legend_elements, loc='best', fontsize=15)\n",
    "            \n",
    "\n",
    "gdf.plot(ax=ax, marker=\"o\", markersize=40, color=gdf[\"color\"], label=gdf[\"color\"])\n",
    "\n",
    "None"
   ]
  },
  {
   "cell_type": "code",
   "execution_count": null,
   "metadata": {},
   "outputs": [],
   "source": [
    "usa_tornadoes_2000 = tornado_data[[\"BEGIN_LAT\", \"BEGIN_LON\", \"TOR_F_SCALE\", \"YEAR\", \"STATE\"]]\n",
    "usa_tornadoes_2000[\"TOR_F_SCALE\"] = usa_tornadoes_2000[\"TOR_F_SCALE\"].str.replace(\"E\", \"\")\n",
    "usa_tornadoes_2000 = usa_tornadoes_2000[usa_tornadoes_2000[\"YEAR\"] >= 2000]\n",
    "usa_tornadoes_2000 = usa_tornadoes_2000[usa_tornadoes_2000[\"STATE\"]!=(\"ALASKA\")]\n",
    "usa_tornadoes_2000 = usa_tornadoes_2000[usa_tornadoes_2000[\"STATE\"]!=(\"HAWAII\")]\n",
    "usa_tornadoes_2000 = usa_tornadoes_2000[usa_tornadoes_2000[\"STATE\"]!=(\"VIRGIN ISLANDS\")]\n",
    "usa_tornadoes_2000 = usa_tornadoes_2000[usa_tornadoes_2000[\"STATE\"]!=(\"PUERTO RICO\")]"
   ]
  },
  {
   "cell_type": "code",
   "execution_count": null,
   "metadata": {},
   "outputs": [],
   "source": [
    "us_2000 = geopandas.read_file(\"zip://states.zip\") # march 27th lecture\n",
    "us_2000[\"NAME\"] = us_2000[\"NAME\"].str.upper()\n",
    "\n",
    "df = usa_tornadoes_2000\n",
    "gdf_us = geopandas.GeoDataFrame(df, geometry=geopandas.points_from_xy(df.BEGIN_LON, df.BEGIN_LAT))\n",
    "gdf_us = gdf_us.reset_index()\n",
    "gdf_us[\"color\"] = gdf_us[\"TOR_F_SCALE\"]\n",
    "gdf_us[\"marker\"] = gdf_us[\"TOR_F_SCALE\"]\n",
    "for i in range(len(gdf_us[\"color\"])):\n",
    "    color = gdf_us.iloc[i][\"color\"]\n",
    "    try:\n",
    "        color = color[1:]\n",
    "    except:\n",
    "        color = \"white\"\n",
    "        gdf_us.at[i, \"color\"] = matplotlib.colors.to_rgba(color, alpha=0.0)\n",
    "        gdf_us.at[i, \"marker\"] = \".\"\n",
    "        continue\n",
    "    if color == \"U\":\n",
    "        color = \"white\"\n",
    "        alpha = 0.0\n",
    "        marker = \".\"\n",
    "    elif int(color) == 0:\n",
    "        color = \"lightyellow\"\n",
    "        alpha = .1\n",
    "        marker = \".\"\n",
    "    elif int(color) == 1:\n",
    "        color = \"lightsalmon\"\n",
    "        alpha = .15\n",
    "        marker = \".\"\n",
    "    elif int(color) == 2:\n",
    "        color = \"tomato\"\n",
    "        alpha = .2\n",
    "        marker = \".\"\n",
    "    elif int(color) == 3:\n",
    "        color = \"red\"\n",
    "        alpha = .5\n",
    "        marker = \"o\"\n",
    "    elif int(color) == 4:\n",
    "        color = \"darkred\"\n",
    "        alpha = 1.0\n",
    "        marker = \"o\"\n",
    "    elif int(color) == 5:\n",
    "        color = \"k\"\n",
    "        alpha = 1.0\n",
    "        marker = \"s\"\n",
    "    else:\n",
    "        color = \"white\"\n",
    "        marker = \".\"\n",
    "    gdf_us.at[i, \"color\"] = matplotlib.colors.to_rgba(color, alpha=alpha)\n",
    "    gdf_us.at[i, \"marker\"] = marker"
   ]
  },
  {
   "cell_type": "code",
   "execution_count": null,
   "metadata": {},
   "outputs": [],
   "source": [
    "us_2000 = us_2000[~us_2000[\"STUSPS\"].isin([\"AK\", \"HI\", \"PR\"])]\n",
    "ax = us_2000.plot(color='white', edgecolor='black', figsize=((15,20)))\n",
    "ax.set_title(\"United States Tornado Locations (2000-present)\", fontsize=30)\n",
    "ax.spines['right'].set_visible(False)\n",
    "ax.spines['top'].set_visible(False)\n",
    "ax.spines['left'].set_visible(False)\n",
    "ax.spines['bottom'].set_visible(False)\n",
    "ax.axis(\"off\")\n",
    "legend_elements = [Line2D([0], [0], marker='o', color='lightyellow', label=\"F0\",\n",
    "                         markerfacecolor=\"lightyellow\", markersize=5),\n",
    "                   Line2D([0], [0], marker='o', color='lightsalmon', label='F1', \n",
    "                          markerfacecolor='lightsalmon', markersize=5),\n",
    "                   Line2D([0], [0], marker='o', color='tomato', label='F2', \n",
    "                          markerfacecolor='tomato', markersize=5),\n",
    "                   Line2D([0], [0], marker='o', color='red', label='F3', \n",
    "                          markerfacecolor='red', markersize=5),\n",
    "                   Line2D([0], [0], marker='o', color='darkred', label='F4', \n",
    "                          markerfacecolor='darkred', markersize=5),\n",
    "                   Line2D([0], [0], marker='o', color='k', label='F5', \n",
    "                          markerfacecolor='k', markersize=5)]\n",
    "ax.legend(handles=legend_elements, loc='best', fontsize=15)\n",
    "            \n",
    "gdf_us.plot(ax=ax, marker=\"o\", markersize=5, color=gdf_us[\"color\"], label=gdf_us[\"color\"])\n",
    "\n",
    "None"
   ]
  }
 ],
 "metadata": {
  "kernelspec": {
   "display_name": "Python 3",
   "language": "python",
   "name": "python3"
  },
  "language_info": {
   "codemirror_mode": {
    "name": "ipython",
    "version": 3
   },
   "file_extension": ".py",
   "mimetype": "text/x-python",
   "name": "python",
   "nbconvert_exporter": "python",
   "pygments_lexer": "ipython3",
   "version": "3.7.4"
  }
 },
 "nbformat": 4,
 "nbformat_minor": 4
}
